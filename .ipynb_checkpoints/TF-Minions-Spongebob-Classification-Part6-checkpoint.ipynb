{
 "cells": [
  {
   "cell_type": "code",
   "execution_count": 22,
   "metadata": {},
   "outputs": [
    {
     "name": "stdout",
     "output_type": "stream",
     "text": [
      "Registering model tf_cnn-minions_spongebob_model\n"
     ]
    }
   ],
   "source": [
    "# Pushing model file to AML model registry\n",
    "filename = 'docker\\\\zip_models\\\\' + model_version + '.zip'\n",
    "model_name = 'tf_cnn-minions_spongebob_model'\n",
    "\n",
    "model = Model.register(workspace = ws,\n",
    "                        model_path = filename,\n",
    "                        model_name = model_name,\n",
    "                        model_framework=Model.Framework.TENSORFLOW,\n",
    "                        tags = {\"network\":\"cnn\"},\n",
    "                        description = \"tf-cnn-minions-spongebob-classification-model\")"
   ]
  }
 ],
 "metadata": {
  "kernelspec": {
   "display_name": "Python 3",
   "language": "python",
   "name": "python3"
  },
  "language_info": {
   "codemirror_mode": {
    "name": "ipython",
    "version": 3
   },
   "file_extension": ".py",
   "mimetype": "text/x-python",
   "name": "python",
   "nbconvert_exporter": "python",
   "pygments_lexer": "ipython3",
   "version": "3.7.4"
  }
 },
 "nbformat": 4,
 "nbformat_minor": 2
}
