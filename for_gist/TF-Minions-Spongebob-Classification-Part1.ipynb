{
 "cells": [
  {
   "cell_type": "code",
   "execution_count": 3,
   "metadata": {},
   "outputs": [
    {
     "name": "stdout",
     "output_type": "stream",
     "text": [
      "Found workspace minionsappaiml at location southeastasia\n",
      "Azure ML SDK Version:  1.2.0\n"
     ]
    }
   ],
   "source": [
    "# Setting up & connecting AML workspace environment\n",
    "import azureml\n",
    "from azureml.core import Experiment\n",
    "from azureml.core import Workspace, Run\n",
    "from azureml.core.model import Model\n",
    "from azureml.core.authentication import InteractiveLoginAuthentication\n",
    "import numpy as np\n",
    "\n",
    "interactive_auth = InteractiveLoginAuthentication(tenant_id=\"PLEASE-ENTER-YOUR-AAD-TENANT-ID\")\n",
    "\n",
    "ws = Workspace.from_config()\n",
    "\n",
    "subscription_id = 'PLEASE-ENTER-YOUR-AZURE-SUBSCRIPTION-ID'\n",
    "resource_group  = 'PLEASE-ENTER-THE-RESOURCE-GROUP-NAME-CONTAIN-AML-WORKSPACE'\n",
    "workspace_name  = 'PLEASE-ENTER-YOUR-AML-WORKSPACE-NAME'\n",
    "\n",
    "ws = Workspace(subscription_id=subscription_id,\n",
    "               resource_group=resource_group,\n",
    "               workspace_name=workspace_name,\n",
    "               auth=interactive_auth)\n",
    "\n",
    "print(\"Found workspace {} at location {}\".format(ws.name, ws.location))\n",
    "print(\"Azure ML SDK Version: \", azureml.core.VERSION)"
   ]
  },
  {
   "cell_type": "code",
   "execution_count": 4,
   "metadata": {},
   "outputs": [
    {
     "name": "stdout",
     "output_type": "stream",
     "text": [
      "minionsappaiml\tsoutheastasia\tMinionsAppAIML\n"
     ]
    }
   ],
   "source": [
    "# load workspace configuration from the config.json file in the current folder.\n",
    "ws = Workspace.from_config()\n",
    "print(ws.name, ws.location, ws.resource_group, sep='\\t')"
   ]
  },
  {
   "cell_type": "code",
   "execution_count": 5,
   "metadata": {},
   "outputs": [],
   "source": [
    "# Defining Experiment name in AML workspace which targeted to push model training performance telemetry data\n",
    "experiment = Experiment(workspace=ws, name=\"tf-cnn-minions-spongebob-classification-experiment\")"
   ]
  },
  {
   "cell_type": "code",
   "execution_count": 6,
   "metadata": {},
   "outputs": [
    {
     "data": {
      "text/html": [
       "<table style=\"width:100%\"><tr><th>Name</th><th>Workspace</th><th>Report Page</th><th>Docs Page</th></tr><tr><td>tf-cnn-minions-spongebob-classification-experiment</td><td>minionsappaiml</td><td><a href=\"https://ml.azure.com/experiments/tf-cnn-minions-spongebob-classification-experiment?wsid=/subscriptions/xxxxxxxxxx/resourcegroups/MinionsAppAIML/workspaces/minionsappaiml\" target=\"_blank\" rel=\"noopener\">Link to Azure Machine Learning studio</a></td><td><a href=\"https://docs.microsoft.com/en-us/python/api/azureml-core/azureml.core.experiment.Experiment?view=azure-ml-py\" target=\"_blank\" rel=\"noopener\">Link to Documentation</a></td></tr></table>"
      ],
      "text/plain": [
       "Experiment(Name: tf-cnn-minions-spongebob-classification-experiment,\n",
       "Workspace: minionsappaiml)"
      ]
     },
     "execution_count": 6,
     "metadata": {},
     "output_type": "execute_result"
    }
   ],
   "source": [
    "experiment"
   ]
  }
 ],
 "metadata": {
  "kernelspec": {
   "display_name": "Python 3",
   "language": "python",
   "name": "python3"
  },
  "language_info": {
   "codemirror_mode": {
    "name": "ipython",
    "version": 3
   },
   "file_extension": ".py",
   "mimetype": "text/x-python",
   "name": "python",
   "nbconvert_exporter": "python",
   "pygments_lexer": "ipython3",
   "version": "3.7.4"
  }
 },
 "nbformat": 4,
 "nbformat_minor": 2
}
